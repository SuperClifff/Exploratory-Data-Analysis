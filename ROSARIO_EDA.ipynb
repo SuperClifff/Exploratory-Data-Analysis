{
 "cells": [
  {
   "cell_type": "markdown",
   "id": "ea2822e5",
   "metadata": {},
   "source": [
    "# Exploratory Data Analysis\n",
    "## ROSARIO, Clifford James \n",
    "### 2ECE-C"
   ]
  },
  {
   "cell_type": "code",
   "execution_count": 1,
   "id": "c9b23e2f",
   "metadata": {},
   "outputs": [],
   "source": [
    "import numpy as np\n",
    "import pandas as pd\n",
    "import matplotlib as plt\n",
    "import seaborn as sns"
   ]
  },
  {
   "cell_type": "markdown",
   "id": "acf314fc",
   "metadata": {},
   "source": [
    "### Overview of Dataset"
   ]
  },
  {
   "cell_type": "code",
   "execution_count": 50,
   "id": "c23df373",
   "metadata": {
    "scrolled": true
   },
   "outputs": [
    {
     "data": {
      "text/html": [
       "<div>\n",
       "<style scoped>\n",
       "    .dataframe tbody tr th:only-of-type {\n",
       "        vertical-align: middle;\n",
       "    }\n",
       "\n",
       "    .dataframe tbody tr th {\n",
       "        vertical-align: top;\n",
       "    }\n",
       "\n",
       "    .dataframe thead th {\n",
       "        text-align: right;\n",
       "    }\n",
       "</style>\n",
       "<table border=\"1\" class=\"dataframe\">\n",
       "  <thead>\n",
       "    <tr style=\"text-align: right;\">\n",
       "      <th></th>\n",
       "      <th>track_name</th>\n",
       "      <th>artist(s)_name</th>\n",
       "      <th>artist_count</th>\n",
       "      <th>released_year</th>\n",
       "      <th>released_month</th>\n",
       "      <th>released_day</th>\n",
       "      <th>in_spotify_playlists</th>\n",
       "      <th>in_spotify_charts</th>\n",
       "      <th>streams</th>\n",
       "      <th>in_apple_playlists</th>\n",
       "      <th>...</th>\n",
       "      <th>bpm</th>\n",
       "      <th>key</th>\n",
       "      <th>mode</th>\n",
       "      <th>danceability_%</th>\n",
       "      <th>valence_%</th>\n",
       "      <th>energy_%</th>\n",
       "      <th>acousticness_%</th>\n",
       "      <th>instrumentalness_%</th>\n",
       "      <th>liveness_%</th>\n",
       "      <th>speechiness_%</th>\n",
       "    </tr>\n",
       "  </thead>\n",
       "  <tbody>\n",
       "    <tr>\n",
       "      <th>0</th>\n",
       "      <td>Seven (feat. Latto) (Explicit Ver.)</td>\n",
       "      <td>Latto, Jung Kook</td>\n",
       "      <td>2</td>\n",
       "      <td>2023</td>\n",
       "      <td>7</td>\n",
       "      <td>14</td>\n",
       "      <td>553</td>\n",
       "      <td>147</td>\n",
       "      <td>141381703.0</td>\n",
       "      <td>43</td>\n",
       "      <td>...</td>\n",
       "      <td>125</td>\n",
       "      <td>B</td>\n",
       "      <td>Major</td>\n",
       "      <td>80</td>\n",
       "      <td>89</td>\n",
       "      <td>83</td>\n",
       "      <td>31</td>\n",
       "      <td>0</td>\n",
       "      <td>8</td>\n",
       "      <td>4</td>\n",
       "    </tr>\n",
       "    <tr>\n",
       "      <th>1</th>\n",
       "      <td>LALA</td>\n",
       "      <td>Myke Towers</td>\n",
       "      <td>1</td>\n",
       "      <td>2023</td>\n",
       "      <td>3</td>\n",
       "      <td>23</td>\n",
       "      <td>1474</td>\n",
       "      <td>48</td>\n",
       "      <td>133716286.0</td>\n",
       "      <td>48</td>\n",
       "      <td>...</td>\n",
       "      <td>92</td>\n",
       "      <td>C#</td>\n",
       "      <td>Major</td>\n",
       "      <td>71</td>\n",
       "      <td>61</td>\n",
       "      <td>74</td>\n",
       "      <td>7</td>\n",
       "      <td>0</td>\n",
       "      <td>10</td>\n",
       "      <td>4</td>\n",
       "    </tr>\n",
       "    <tr>\n",
       "      <th>2</th>\n",
       "      <td>vampire</td>\n",
       "      <td>Olivia Rodrigo</td>\n",
       "      <td>1</td>\n",
       "      <td>2023</td>\n",
       "      <td>6</td>\n",
       "      <td>30</td>\n",
       "      <td>1397</td>\n",
       "      <td>113</td>\n",
       "      <td>140003974.0</td>\n",
       "      <td>94</td>\n",
       "      <td>...</td>\n",
       "      <td>138</td>\n",
       "      <td>F</td>\n",
       "      <td>Major</td>\n",
       "      <td>51</td>\n",
       "      <td>32</td>\n",
       "      <td>53</td>\n",
       "      <td>17</td>\n",
       "      <td>0</td>\n",
       "      <td>31</td>\n",
       "      <td>6</td>\n",
       "    </tr>\n",
       "    <tr>\n",
       "      <th>3</th>\n",
       "      <td>Cruel Summer</td>\n",
       "      <td>Taylor Swift</td>\n",
       "      <td>1</td>\n",
       "      <td>2019</td>\n",
       "      <td>8</td>\n",
       "      <td>23</td>\n",
       "      <td>7858</td>\n",
       "      <td>100</td>\n",
       "      <td>800840817.0</td>\n",
       "      <td>116</td>\n",
       "      <td>...</td>\n",
       "      <td>170</td>\n",
       "      <td>A</td>\n",
       "      <td>Major</td>\n",
       "      <td>55</td>\n",
       "      <td>58</td>\n",
       "      <td>72</td>\n",
       "      <td>11</td>\n",
       "      <td>0</td>\n",
       "      <td>11</td>\n",
       "      <td>15</td>\n",
       "    </tr>\n",
       "    <tr>\n",
       "      <th>4</th>\n",
       "      <td>WHERE SHE GOES</td>\n",
       "      <td>Bad Bunny</td>\n",
       "      <td>1</td>\n",
       "      <td>2023</td>\n",
       "      <td>5</td>\n",
       "      <td>18</td>\n",
       "      <td>3133</td>\n",
       "      <td>50</td>\n",
       "      <td>303236322.0</td>\n",
       "      <td>84</td>\n",
       "      <td>...</td>\n",
       "      <td>144</td>\n",
       "      <td>A</td>\n",
       "      <td>Minor</td>\n",
       "      <td>65</td>\n",
       "      <td>23</td>\n",
       "      <td>80</td>\n",
       "      <td>14</td>\n",
       "      <td>63</td>\n",
       "      <td>11</td>\n",
       "      <td>6</td>\n",
       "    </tr>\n",
       "  </tbody>\n",
       "</table>\n",
       "<p>5 rows × 24 columns</p>\n",
       "</div>"
      ],
      "text/plain": [
       "                            track_name    artist(s)_name  artist_count  \\\n",
       "0  Seven (feat. Latto) (Explicit Ver.)  Latto, Jung Kook             2   \n",
       "1                                 LALA       Myke Towers             1   \n",
       "2                              vampire    Olivia Rodrigo             1   \n",
       "3                         Cruel Summer      Taylor Swift             1   \n",
       "4                       WHERE SHE GOES         Bad Bunny             1   \n",
       "\n",
       "   released_year  released_month  released_day  in_spotify_playlists  \\\n",
       "0           2023               7            14                   553   \n",
       "1           2023               3            23                  1474   \n",
       "2           2023               6            30                  1397   \n",
       "3           2019               8            23                  7858   \n",
       "4           2023               5            18                  3133   \n",
       "\n",
       "   in_spotify_charts      streams  in_apple_playlists  ...  bpm key   mode  \\\n",
       "0                147  141381703.0                  43  ...  125   B  Major   \n",
       "1                 48  133716286.0                  48  ...   92  C#  Major   \n",
       "2                113  140003974.0                  94  ...  138   F  Major   \n",
       "3                100  800840817.0                 116  ...  170   A  Major   \n",
       "4                 50  303236322.0                  84  ...  144   A  Minor   \n",
       "\n",
       "  danceability_%  valence_% energy_% acousticness_%  instrumentalness_%  \\\n",
       "0             80         89       83             31                   0   \n",
       "1             71         61       74              7                   0   \n",
       "2             51         32       53             17                   0   \n",
       "3             55         58       72             11                   0   \n",
       "4             65         23       80             14                  63   \n",
       "\n",
       "   liveness_%  speechiness_%  \n",
       "0           8              4  \n",
       "1          10              4  \n",
       "2          31              6  \n",
       "3          11             15  \n",
       "4          11              6  \n",
       "\n",
       "[5 rows x 24 columns]"
      ]
     },
     "execution_count": 50,
     "metadata": {},
     "output_type": "execute_result"
    }
   ],
   "source": [
    "#load the dataset\n",
    "df = pd.read_csv('spotify-2023.csv', encoding='ISO-8859-1')\n",
    "\n",
    "# Convert the 'streams' column to numeric, coercing errors to NaN if any non-numeric values are found\n",
    "df['streams'] = pd.to_numeric(df['streams'], errors='coerce')\n",
    "\n",
    "#display the first few rows of the dataset.\n",
    "df.head()"
   ]
  },
  {
   "cell_type": "code",
   "execution_count": 30,
   "id": "065fccad",
   "metadata": {},
   "outputs": [
    {
     "name": "stdout",
     "output_type": "stream",
     "text": [
      "Number of rows: 953\n",
      "Number of columns: 24\n",
      "\n",
      "Data Types and Missing Values:\n",
      "track_name               object\n",
      "artist(s)_name           object\n",
      "artist_count              int64\n",
      "released_year             int64\n",
      "released_month            int64\n",
      "released_day              int64\n",
      "in_spotify_playlists      int64\n",
      "in_spotify_charts         int64\n",
      "streams                 float64\n",
      "in_apple_playlists        int64\n",
      "in_apple_charts           int64\n",
      "in_deezer_playlists      object\n",
      "in_deezer_charts          int64\n",
      "in_shazam_charts         object\n",
      "bpm                       int64\n",
      "key                      object\n",
      "mode                     object\n",
      "danceability_%            int64\n",
      "valence_%                 int64\n",
      "energy_%                  int64\n",
      "acousticness_%            int64\n",
      "instrumentalness_%        int64\n",
      "liveness_%                int64\n",
      "speechiness_%             int64\n",
      "dtype: object\n",
      "\n",
      "Missing Values:\n",
      "track_name               0\n",
      "artist(s)_name           0\n",
      "artist_count             0\n",
      "released_year            0\n",
      "released_month           0\n",
      "released_day             0\n",
      "in_spotify_playlists     0\n",
      "in_spotify_charts        0\n",
      "streams                  1\n",
      "in_apple_playlists       0\n",
      "in_apple_charts          0\n",
      "in_deezer_playlists      0\n",
      "in_deezer_charts         0\n",
      "in_shazam_charts        50\n",
      "bpm                      0\n",
      "key                     95\n",
      "mode                     0\n",
      "danceability_%           0\n",
      "valence_%                0\n",
      "energy_%                 0\n",
      "acousticness_%           0\n",
      "instrumentalness_%       0\n",
      "liveness_%               0\n",
      "speechiness_%            0\n",
      "dtype: int64\n"
     ]
    }
   ],
   "source": [
    "#dataset dimensions\n",
    "rows, columns = df.shape\n",
    "print(f\"Number of rows: {rows}\")\n",
    "print(f\"Number of columns: {columns}\")\n",
    "\n",
    "#data types and missing values\n",
    "print(\"\\nData Types and Missing Values:\")\n",
    "print(df.dtypes)\n",
    "print(\"\\nMissing Values:\")\n",
    "print(df.isnull().sum())\n"
   ]
  },
  {
   "cell_type": "markdown",
   "id": "c5c1e879",
   "metadata": {},
   "source": [
    "### Basic Descriptive Statistics"
   ]
  },
  {
   "cell_type": "code",
   "execution_count": 13,
   "id": "9653fd5c",
   "metadata": {},
   "outputs": [
    {
     "name": "stdout",
     "output_type": "stream",
     "text": [
      "\n",
      "Mean of streams: 514137424.93907565\n",
      "Median of streams: 290530915.0\n",
      "Standard deviation of streams: 566856949.0388832\n"
     ]
    }
   ],
   "source": [
    "mean_streams = df['streams'].mean()\n",
    "median_streams = df['streams'].median()\n",
    "std_streams = df['streams'].std()\n",
    "\n",
    "print(f\"\\nMean of streams: {mean_streams}\")\n",
    "print(f\"Median of streams: {median_streams}\")\n",
    "print(f\"Standard deviation of streams: {std_streams}\")"
   ]
  },
  {
   "cell_type": "code",
   "execution_count": 27,
   "id": "d11c57af",
   "metadata": {},
   "outputs": [
    {
     "data": {
      "text/plain": [
       "Text(0.5, 0, 'Released Year')"
      ]
     },
     "execution_count": 27,
     "metadata": {},
     "output_type": "execute_result"
    },
    {
     "data": {
      "image/png": "[encoded data removed]",
      "text/plain": [
       "<Figure size 1200x500 with 1 Axes>"
      ]
     },
     "metadata": {},
     "output_type": "display_data"
    }
   ],
   "source": [
    "# plot the distributions\n",
    "plt.figure(figsize=(12, 5))\n",
    "plt.subplot(1, 2, 1)\n",
    "df['released_year'].plot(kind='hist', bins=15, color='blue', edgecolor='black')\n",
    "plt.title('Distribution of Released Year')\n",
    "plt.xlabel('Released Year')"
   ]
  },
  {
   "cell_type": "code",
   "execution_count": 16,
   "id": "de51ef6c",
   "metadata": {},
   "outputs": [
    {
     "data": {
      "image/png": "[encoded data removed]",
      "text/plain": [
       "<Figure size 640x480 with 1 Axes>"
      ]
     },
     "metadata": {},
     "output_type": "display_data"
    }
   ],
   "source": [
    "plt.subplot(1, 2, 2)\n",
    "df['artist_count'].plot(kind='hist', bins=10, color='green', edgecolor='black')\n",
    "plt.title('Distribution of Artist Count')\n",
    "plt.xlabel('Artist Count')\n",
    "plt.show()"
   ]
  },
  {
   "cell_type": "markdown",
   "id": "38cf7e6d",
   "metadata": {},
   "source": [
    "### Top Performers"
   ]
  },
  {
   "cell_type": "code",
   "execution_count": 47,
   "id": "b41ee5f0",
   "metadata": {},
   "outputs": [
    {
     "name": "stdout",
     "output_type": "stream",
     "text": [
      "\n",
      "the top 5 Most Streamed Tracks is:\n",
      "                                        track_name         artist(s)_name  \\\n",
      "55                                 Blinding Lights             The Weeknd   \n",
      "179                                   Shape of You             Ed Sheeran   \n",
      "86                               Someone You Loved          Lewis Capaldi   \n",
      "620                                   Dance Monkey            Tones and I   \n",
      "41   Sunflower - Spider-Man: Into the Spider-Verse  Post Malone, Swae Lee   \n",
      "\n",
      "          streams  \n",
      "55   3.703895e+09  \n",
      "179  3.562544e+09  \n",
      "86   2.887242e+09  \n",
      "620  2.864792e+09  \n",
      "41   2.808097e+09  \n"
     ]
    }
   ],
   "source": [
    "# top 5 most streamed tracks\n",
    "top_streamed_tracks = df.nlargest(5, 'streams')[['track_name', 'artist(s)_name', 'streams']]\n",
    "print(\"\\nthe top 5 Most Streamed Tracks is:\")\n",
    "print(top_streamed_tracks)"
   ]
  },
  {
   "cell_type": "code",
   "execution_count": 46,
   "id": "524ab151",
   "metadata": {},
   "outputs": [
    {
     "name": "stdout",
     "output_type": "stream",
     "text": [
      "\n",
      "the top 5 Most Frequent Artists is:\n",
      "Taylor Swift    34\n",
      "The Weeknd      22\n",
      "Bad Bunny       19\n",
      "SZA             19\n",
      "Harry Styles    17\n",
      "Name: artist(s)_name, dtype: int64\n"
     ]
    }
   ],
   "source": [
    "# top 5 most frequent artists\n",
    "top_artists = df['artist(s)_name'].value_counts().head(5)\n",
    "print(\"\\nthe top 5 Most Frequent Artists is:\")\n",
    "print(top_artists)"
   ]
  },
  {
   "cell_type": "markdown",
   "id": "11dfbbac",
   "metadata": {},
   "source": [
    "### Temporal Trends"
   ]
  },
  {
   "cell_type": "code",
   "execution_count": 45,
   "id": "babbd1b5",
   "metadata": {},
   "outputs": [
    {
     "data": {
      "image/png": "[encoded data removed]",
      "text/plain": [
       "<Figure size 1000x600 with 1 Axes>"
      ]
     },
     "metadata": {},
     "output_type": "display_data"
    }
   ],
   "source": [
    "#number of tracks released per month\n",
    "tracks_per_month = df['released_month'].value_counts().sort_index()\n",
    "\n",
    "plt.figure(figsize=(10, 6))\n",
    "tracks_per_month.plot(kind='bar', color='green')\n",
    "plt.title('Number of Tracks Released per Month')\n",
    "plt.xlabel('Month')\n",
    "plt.ylabel('Number of Tracks')\n",
    "plt.show()"
   ]
  },
  {
   "cell_type": "markdown",
   "id": "ac46002f",
   "metadata": {},
   "source": [
    "### Genre and Music Characteristics"
   ]
  },
  {
   "cell_type": "code",
   "execution_count": 44,
   "id": "274ecfe8",
   "metadata": {},
   "outputs": [
    {
     "name": "stdout",
     "output_type": "stream",
     "text": [
      "\n",
      "Correlation with Streams:\n",
      "streams           1.000000\n",
      "bpm              -0.002438\n",
      "energy_%         -0.026051\n",
      "danceability_%   -0.105457\n",
      "Name: streams, dtype: float64\n",
      "\n",
      "Correlation between Danceability and Energy: 0.19809484837625715\n",
      "Correlation between Valence and Acousticness: -0.08190727483082758\n"
     ]
    }
   ],
   "source": [
    "#correlation in the streams and musical attributes\n",
    "correlation = df[['streams', 'bpm', 'danceability_%', 'energy_%']].corr()\n",
    "dance_energy_corr = df['danceability_%'].corr(df['energy_%'])\n",
    "valence_acoustic_corr = df['valence_%'].corr(df['acousticness_%'])\n",
    "print(\"\\nCorrelation with Streams:\")\n",
    "print(correlation['streams'].sort_values(ascending=False))\n",
    "print(f\"\\nCorrelation between Danceability and Energy: {dance_energy_corr}\")\n",
    "print(f\"Correlation between Valence and Acousticness: {valence_acoustic_corr}\")"
   ]
  },
  {
   "cell_type": "markdown",
   "id": "894574f0",
   "metadata": {},
   "source": [
    "### Platform Popularity"
   ]
  },
  {
   "cell_type": "code",
   "execution_count": 40,
   "id": "d334ffe0",
   "metadata": {},
   "outputs": [
    {
     "data": {
      "image/png": "[encoded data removed]",
      "text/plain": [
       "<Figure size 640x480 with 1 Axes>"
      ]
     },
     "metadata": {},
     "output_type": "display_data"
    },
    {
     "name": "stdout",
     "output_type": "stream",
     "text": [
      "\n",
      "Platform Popularity Comparison:\n",
      "in_spotify_playlists    4955719\n",
      "in_spotify_charts         11445\n",
      "in_apple_playlists        64625\n",
      "dtype: int64\n"
     ]
    }
   ],
   "source": [
    "#comparison\n",
    "platform_counts = df[['in_spotify_playlists', 'in_spotify_charts', 'in_apple_playlists']].sum()\n",
    "# Plotting platform popularity\n",
    "platform_counts.plot(kind='bar', color=['blue', 'green', 'red'])\n",
    "plt.title('Platform Popularity Comparison')\n",
    "plt.xlabel('Platform')\n",
    "plt.ylabel('Total Tracks')\n",
    "plt.show()\n",
    "print(\"\\nPlatform Popularity Comparison:\")\n",
    "print(platform_counts)"
   ]
  },
  {
   "cell_type": "markdown",
   "id": "11d73a93",
   "metadata": {},
   "source": [
    "### Advanced Analysis "
   ]
  },
  {
   "cell_type": "code",
   "execution_count": 43,
   "id": "d53c4420",
   "metadata": {},
   "outputs": [
    {
     "name": "stdout",
     "output_type": "stream",
     "text": [
      "\n",
      "Average Streams by Key and Mode:\n",
      "key  mode \n",
      "E    Major    7.605963e+08\n",
      "D#   Major    6.819623e+08\n",
      "C#   Major    6.285883e+08\n",
      "A#   Major    6.275336e+08\n",
      "F#   Minor    5.954921e+08\n",
      "B    Minor    5.825110e+08\n",
      "D    Major    5.720180e+08\n",
      "C#   Minor    5.665252e+08\n",
      "G#   Major    5.458044e+08\n",
      "F    Major    5.279311e+08\n",
      "E    Minor    5.083264e+08\n",
      "G    Major    4.929813e+08\n",
      "A#   Minor    4.849231e+08\n",
      "D#   Minor    4.793647e+08\n",
      "B    Major    4.363336e+08\n",
      "F#   Major    4.175450e+08\n",
      "A    Minor    4.173906e+08\n",
      "F    Minor    4.102836e+08\n",
      "A    Major    4.019603e+08\n",
      "G    Minor    3.637593e+08\n",
      "D    Minor    3.425588e+08\n",
      "G#   Minor    3.219036e+08\n",
      "Name: streams, dtype: float64\n"
     ]
    }
   ],
   "source": [
    "key_mode_streams = df.groupby(['key', 'mode'])['streams'].mean().sort_values(ascending=False)\n",
    "print(\"\\nAverage Streams by Key and Mode:\")\n",
    "print(key_mode_streams)"
   ]
  },
  {
   "cell_type": "code",
   "execution_count": 51,
   "id": "8b70be35",
   "metadata": {},
   "outputs": [
    {
     "name": "stdout",
     "output_type": "stream",
     "text": [
      "\n",
      "Top 5 Artists in Playlists/Charts:\n",
      "artist(s)_name\n",
      "The Weeknd      145910\n",
      "Taylor Swift    135312\n",
      "Ed Sheeran      130300\n",
      "Harry Styles    111952\n",
      "Eminem           87958\n",
      "dtype: int64\n"
     ]
    }
   ],
   "source": [
    "#count of tracks in playlist by artist\n",
    "artist_playlist_counts = df.groupby('artist(s)_name')[['in_spotify_playlists', 'in_spotify_charts', 'in_apple_playlists']].sum()\n",
    "top_artists_in_playlists = artist_playlist_counts.sum(axis=1).nlargest(5)\n",
    "print(\"\\nTop 5 Artists in Playlists/Charts:\")\n",
    "print(top_artists_in_playlists)"
   ]
  },
  {
   "cell_type": "code",
   "execution_count": null,
   "id": "7ca99eaf",
   "metadata": {},
   "outputs": [],
   "source": []
  }
 ],
 "metadata": {
  "kernelspec": {
   "display_name": "Python 3 (ipykernel)",
   "language": "python",
   "name": "python3"
  },
  "language_info": {
   "codemirror_mode": {
    "name": "ipython",
    "version": 3
   },
   "file_extension": ".py",
   "mimetype": "text/x-python",
   "name": "python",
   "nbconvert_exporter": "python",
   "pygments_lexer": "ipython3",
   "version": "3.11.4"
  }
 },
 "nbformat": 4,
 "nbformat_minor": 5
}
